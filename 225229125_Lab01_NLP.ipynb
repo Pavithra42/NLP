{
 "cells": [
  {
   "cell_type": "raw",
   "metadata": {},
   "source": [
    "Name:Pavithra S\n",
    "Roll no:225229125"
   ]
  },
  {
   "cell_type": "markdown",
   "metadata": {},
   "source": [
    "# Lab-1: Understanding Large TextFile"
   ]
  },
  {
   "cell_type": "markdown",
   "metadata": {},
   "source": [
    "# Exercise 1"
   ]
  },
  {
   "cell_type": "code",
   "execution_count": 1,
   "metadata": {},
   "outputs": [],
   "source": [
    "import nltk"
   ]
  },
  {
   "cell_type": "code",
   "execution_count": 4,
   "metadata": {},
   "outputs": [
    {
     "name": "stdout",
     "output_type": "stream",
     "text": [
      "[nltk_data] Downloading package wordnet to\n",
      "[nltk_data]     C:\\Users\\1mscdsa25\\AppData\\Roaming\\nltk_data...\n"
     ]
    },
    {
     "data": {
      "text/plain": [
       "True"
      ]
     },
     "execution_count": 4,
     "metadata": {},
     "output_type": "execute_result"
    }
   ],
   "source": [
    "nltk.download('wordnet')\n"
   ]
  },
  {
   "cell_type": "code",
   "execution_count": 5,
   "metadata": {},
   "outputs": [],
   "source": [
    "text=\"This is Andrew's text,isn't it?\""
   ]
  },
  {
   "cell_type": "code",
   "execution_count": 7,
   "metadata": {},
   "outputs": [
    {
     "name": "stdout",
     "output_type": "stream",
     "text": [
      "5\n",
      "['This', 'is', \"Andrew's\", \"text,isn't\", 'it?']\n"
     ]
    }
   ],
   "source": [
    "tokenizer=nltk.tokenize.WhitespaceTokenizer()\n",
    "tokens=tokenizer.tokenize(text)\n",
    "print(len(tokens))\n",
    "print(tokens)"
   ]
  },
  {
   "cell_type": "code",
   "execution_count": 11,
   "metadata": {},
   "outputs": [
    {
     "name": "stdout",
     "output_type": "stream",
     "text": [
      "10\n",
      "['This', 'is', 'Andrew', \"'s\", 'text', ',', 'is', \"n't\", 'it', '?']\n"
     ]
    }
   ],
   "source": [
    "tokenizer=nltk.tokenize.TreebankWordTokenizer()#The Treebank tokenizer uses regular expressions to tokenize text as in Penn Treebank.\n",
    "tokens=tokenizer.tokenize(text)\n",
    "print(len(tokens))\n",
    "print(tokens)"
   ]
  },
  {
   "cell_type": "code",
   "execution_count": 12,
   "metadata": {},
   "outputs": [
    {
     "name": "stdout",
     "output_type": "stream",
     "text": [
      "12\n",
      "['This', 'is', 'Andrew', \"'\", 's', 'text', ',', 'isn', \"'\", 't', 'it', '?']\n"
     ]
    }
   ],
   "source": [
    "tokenizer=nltk.tokenize.WordPunctTokenizer()\n",
    "tokens=tokenizer.tokenize(text)\n",
    "print(len(tokens))\n",
    "print(tokens)"
   ]
  },
  {
   "cell_type": "markdown",
   "metadata": {},
   "source": [
    "# Exercise 2"
   ]
  },
  {
   "cell_type": "code",
   "execution_count": 25,
   "metadata": {},
   "outputs": [
    {
     "name": "stdout",
     "output_type": "stream",
     "text": [
      "The Gift of the Magi\n",
      "by O. Henry\n",
      "\n",
      "One dollar and eighty-seven cents. That was all. And sixty cents of it was in pennies. Pennies saved one and two at a time by bulldozing the grocer and the vegetable man and the butcher until one's cheeks burned with the silent imputation of parsimony that such close dealing implied. Three times Della counted it. One dollar and eighty-seven cents. And the next day would be Christmas.\n",
      "\n",
      "There was clearly nothing left to do but flop down on the shabby little couch and howl. So Della did it. Which instigates the moral reflection that life is made up of sobs, sniffles, and smiles, with sniffles predominating.\n",
      "\n",
      "While the mistress of the home is gradually subsiding from the first stage to the second, take a look at the home. A furnished flat at $8 per week. It did not exactly beggar description, but it certainly had that word on the look-out for the mendicancy squad.\n",
      "\n",
      "In the vestibule below was a letter-box into which no letter would go, and an electric button from which no mortal finger could coax a ring. Also appertaining thereunto was a card bearing the name \"Mr. James Dillingham Young.\"\n",
      "\n",
      "The \"Dillingham\" had been flung to the breeze during a former period of prosperity when its possessor was being paid $30 per week. Now, when the income was shrunk to $20, the letters of \"Dillingham\" looked blurred, as though they were thinking seriously of contracting to a modest and unassuming D. But whenever Mr. James Dillingham Young came home and reached his flat above he was called \"Jim\" and greatly hugged by Mrs. James Dillingham Young, already introduced to you as Della. Which is all very good.\n",
      "\n",
      "Della finished her cry and attended to her cheeks with the powder rag. She stood by the window and looked out dully at a grey cat walking a grey fence in a grey backyard. To-morrow would be Christmas Day, and she had only $1.87 with which to buy Jim a present. She had been saving every penny she could for months, with this result. Twenty dollars a week doesn't go far. Expenses had been greater than she had calculated. They always are. Only $1.87 to buy a present for Jim. Her Jim. Many a happy hour she had spent planning for something nice for him. Something fine and rare and sterling--something just a little bit near to being worthy of the honour of being owned by Jim.\n",
      "\n",
      "There was a pier-glass between the windows of the room. Perhaps you have seen a pier-glass in an $8 flat. A very thin and very agile person may, by observing his reflection in a rapid sequence of longitudinal strips, obtain a fairly accurate conception of his looks. Della, being slender, had mastered the art.\n",
      "\n",
      "Suddenly she whirled from the window and stood before the glass. Her eyes were shining brilliantly, but her face had lost its colour within twenty seconds. Rapidly she pulled down her hair and let it fall to its full length.\n",
      "\n",
      "Now, there were two possessions of the James Dillingham Youngs in which they both took a mighty pride. One was Jim's gold watch that had been his father's and his grandfather's. The other was Della's hair. Had the Queen of Sheba lived in the flat across the airshaft, Della would have let her hair hang out of the window some day to dry just to depreciate Her Majesty's jewels and gifts. Had King Solomon been the janitor, with all his treasures piled up in the basement, Jim would have pulled out his watch every time he passed, just to see him pluck at his beard from envy.\n",
      "\n",
      "So now Della's beautiful hair fell about her, rippling and shining like a cascade of brown waters. It reached below her knee and made itself almost a garment for her. And then she did it up again nervously and quickly. Once she faltered for a minute and stood still while a tear or two splashed on the worn red carpet.\n",
      "\n",
      "On went her old brown jacket; on went her old brown hat. With a whirl of skirts and with the brilliant sparkle still in her eyes, she cluttered out of the door and down the stairs to the street.\n",
      "\n",
      "Where she stopped the sign read: \"Mme Sofronie. Hair Goods of All Kinds.\" One Eight up Della ran, and collected herself, panting. Madame, large, too white, chilly, hardly looked the \"Sofronie.\"\n",
      "\n",
      "\"Will you buy my hair?\" asked Della.\n",
      "\n",
      "\"I buy hair,\" said Madame. \"Take yer hat off and let's have a sight at the looks of it.\"\n",
      "\n",
      "Down rippled the brown cascade.\n",
      "\n",
      "\"Twenty dollars,\" said Madame, lifting the mass with a practised hand.\n",
      "\n",
      "\"Give it to me quick\" said Della.\n",
      "\n",
      "Oh, and the next two hours tripped by on rosy wings. Forget the hashed metaphor. She was ransacking the stores for Jim's present.\n",
      "\n",
      "She found it at last. It surely had been made for Jim and no one else. There was no other like it in any of the stores, and she had turned all of them inside out. It was a platinum fob chain simple and chaste in design, properly proclaiming its value by substance alone and not by meretricious ornamentation--as all good things should do. It was even worthy of The Watch. As soon as she saw it she knew that it must be Jim's. It was like him. Quietness and value--the description applied to both. Twenty-one dollars they took from her for it, and she hurried home with the 78 cents. With that chain on his watch Jim might be properly anxious about the time in any company. Grand as the watch was, he sometimes looked at it on the sly on account of the old leather strap that he used in place of a chain.\n",
      "\n",
      "When Della reached home her intoxication gave way a little to prudence and reason. She got out her curling irons and lighted the gas and went to work repairing the ravages made by generosity added to love. Which is always a tremendous task dear friends--a mammoth task.\n",
      "\n",
      "Within forty minutes her head was covered with tiny, close-lying curls that made her look wonderfully like a truant schoolboy. She looked at her reflection in the mirror long, carefully, and critically.\n",
      "\n",
      "\"If Jim doesn't kill me,\" she said to herself, \"before he takes a second look at me, he'll say I look like a Coney Island chorus girl. But what could I do--oh! what could I do with a dollar and eighty-seven cents?\"\n",
      "\n",
      "At 7 o'clock the coffee was made and the frying-pan was on the back of the stove hot and ready to cook the chops.\n",
      "\n",
      "Jim was never late. Della doubled the fob chain in her hand and sat on the corner of the table near the door that he always entered. Then she heard his step on the stair away down on the first flight, and she turned white for just a moment. She had a habit of saying little silent prayers about the simplest everyday things, and now she whispered: \"Please, God, make him think I am still pretty.\"\n",
      "\n",
      "The door opened and Jim stepped in and closed it. He looked thin and very serious. Poor fellow, he was only twenty-two--and to be burdened with a family! He needed a new overcoat and he was without gloves.\n",
      "\n",
      "Jim stepped inside the door, as immovable as a setter at the scent of quail. His eyes were fixed upon Della, and there was an expression in them that she could not read, and it terrified her. It was not anger, nor surprise, nor disapproval, nor horror, nor any of the sentiments that she had been prepared for. He simply stared at her fixedly with that peculiar expression on his face.\n",
      "\n",
      "Della wriggled off the table and went for him.\n",
      "\n",
      "\"Jim, darling,\" she cried, \"don't look at me that way. I had my hair cut off and sold it because I couldn't have lived through Christmas without giving you a present. It'll grow out again--you won't mind, will you? I just had to do it. My hair grows awfully fast. Say 'Merry Christmas!' Jim, and let's be happy. You don't know what a nice-what a beautiful, nice gift I've got for you.\"\n",
      "\n",
      "\"You've cut off your hair?\" asked Jim, laboriously, as if he had not arrived at that patent fact yet, even after the hardest mental labour.\n",
      "\n",
      "\"Cut it off and sold it,\" said Della. \"Don't you like me just as well, anyhow? I'm me without my hair, ain't I?\"\n",
      "\n",
      "Jim looked about the room curiously.\n",
      "\n",
      "\"You say your hair is gone?\" he said, with an air almost of idiocy.\n",
      "\n",
      "\"You needn't look for it,\" said Della. \"It's sold, I tell you--sold and gone, too. It's Christmas Eve, boy. Be good to me, for it went for you. Maybe the hairs of my head were numbered,\" she went on with a sudden serious sweetness, \"but nobody could ever count my love for you. Shall I put the chops on, Jim?\"\n",
      "\n",
      "Out of his trance Jim seemed quickly to wake. He enfolded his Della. For ten seconds let us regard with discreet scrutiny some inconsequential object in the other direction. Eight dollars a week or a million a year--what is the difference? A mathematician or a wit would give you the wrong answer. The magi brought valuable gifts, but that was not among them. This dark assertion will be illuminated later on.\n",
      "\n",
      "Jim drew a package from his overcoat pocket and threw it upon the table.\n",
      "\n",
      "\"Don't make any mistake, Dell,\" he said, \"about me. I don't think there's anything in the way of a haircut or a shave or a shampoo that could make me like my girl any less. But if you'll unwrap that package you may see why you had me going a while at first.\"\n",
      "\n",
      "White fingers and nimble tore at the string and paper. And then an ecstatic scream of joy; and then, alas! a quick feminine change to hysterical tears and wails, necessitating the immediate employment of all the comforting powers of the lord of the flat.\n",
      "\n",
      "For there lay The Combs--the set of combs, side and back, that Della had worshipped for long in a Broadway window. Beautiful combs, pure tortoise-shell, with jewelled rims--just the shade to wear in the beautiful vanished hair. They were expensive combs, she knew, and her heart had simply craved and yearned over them without the least hope of possession. And now, they were hers, but the tresses that should have adorned the coveted adornments were gone.\n",
      "\n",
      "But she hugged them to her bosom, and at length she was able to look up with dim eyes and a smile and say: \"My hair grows so fast, Jim!\"\n",
      "\n",
      "And then Della leaped up like a little singed cat and cried, \"Oh, oh!\"\n",
      "\n",
      "Jim had not yet seen his beautiful present. She held it out to him eagerly upon her open palm. The dull precious metal seemed to flash with a reflection of her bright and ardent spirit.\n",
      "\n",
      "\"Isn't it a dandy, Jim? I hunted all over town to find it. You'll have to look at the time a hundred times a day now. Give me your watch. I want to see how it looks on it.\"\n",
      "\n",
      "Instead of obeying, Jim tumbled down on the couch and put his hands under the back of his head and smiled.\n",
      "\n",
      "\"Dell,\" said he, \"let's put our Christmas presents away and keep 'em a while. They're too nice to use just at present. I sold the watch to get the money to buy Your combs. And now suppose you put the chops on.\"\n",
      "\n",
      "The magi, as you know, were wise men--wonderfully wise men-who brought gifts to the Babe in the manger. They invented the art of giving Christmas presents. Being wise, their gifts were no doubt wise ones, possibly bearing the privilege of exchange in case of duplication. And here I have lamely related to you the uneventful chronicle of two foolish children in a flat who most unwisely sacrificed for each other the greatest treasures of their house. But in a last word to the wise of these days let it be said that of all who give gifts these two were the wisest. Of all who give and receive gifts, such as they are wisest. Everywhere they are wisest. They are the magi.\n",
      "\n"
     ]
    }
   ],
   "source": [
    "f=open(\"gift-of-magi.txt\")\n",
    "fi=f.read()\n",
    "print(fi)"
   ]
  },
  {
   "cell_type": "code",
   "execution_count": 29,
   "metadata": {},
   "outputs": [
    {
     "name": "stdout",
     "output_type": "stream",
     "text": [
      "count of the tokens :  2074\n"
     ]
    }
   ],
   "source": [
    "tokenizer=nltk.tokenize.WhitespaceTokenizer()\n",
    "tokens=tokenizer.tokenize(fi)\n",
    "print(\"count of the tokens : \",len(tokens))\n"
   ]
  },
  {
   "cell_type": "code",
   "execution_count": 45,
   "metadata": {},
   "outputs": [
    {
     "name": "stdout",
     "output_type": "stream",
     "text": [
      " length of unique words:  939\n"
     ]
    }
   ],
   "source": [
    "unique_words=set(fi.split(\" \"))\n",
    "print(\" length of unique words: \",len(unique_words))"
   ]
  },
  {
   "cell_type": "code",
   "execution_count": 46,
   "metadata": {},
   "outputs": [],
   "source": [
    "from nltk.probability  import FreqDist"
   ]
  },
  {
   "cell_type": "code",
   "execution_count": 49,
   "metadata": {},
   "outputs": [],
   "source": [
    "a=FreqDist(tokens).most_common(20)"
   ]
  },
  {
   "cell_type": "code",
   "execution_count": 50,
   "metadata": {},
   "outputs": [
    {
     "data": {
      "text/plain": [
       "[('.', 139),\n",
       " ('the', 109),\n",
       " (',', 95),\n",
       " ('and', 75),\n",
       " ('a', 65),\n",
       " ('of', 51),\n",
       " ('to', 41),\n",
       " (\"'\", 38),\n",
       " ('\"', 34),\n",
       " ('it', 29),\n",
       " ('was', 27),\n",
       " ('Jim', 26),\n",
       " ('she', 25),\n",
       " ('in', 24),\n",
       " ('her', 24),\n",
       " ('had', 21),\n",
       " ('that', 20),\n",
       " ('Della', 20),\n",
       " ('for', 20),\n",
       " ('at', 19)]"
      ]
     },
     "execution_count": 50,
     "metadata": {},
     "output_type": "execute_result"
    }
   ],
   "source": [
    "a"
   ]
  },
  {
   "cell_type": "code",
   "execution_count": 69,
   "metadata": {},
   "outputs": [
    {
     "data": {
      "text/plain": [
       "FreqDist({'appertaining': 1,\n",
       "          'brilliantly': 1,\n",
       "          'contracting': 1,\n",
       "          'description': 2,\n",
       "          'disapproval': 1,\n",
       "          'duplication': 1,\n",
       "          'grandfather': 1,\n",
       "          'illuminated': 1,\n",
       "          'inconsequential': 1,\n",
       "          'intoxication': 1,\n",
       "          'laboriously': 1,\n",
       "          'longitudinal': 1,\n",
       "          'mathematician': 1,\n",
       "          'meretricious': 1,\n",
       "          'necessitating': 1,\n",
       "          'ornamentation': 1,\n",
       "          'possessions': 1,\n",
       "          'predominating': 1,\n",
       "          'proclaiming': 1,\n",
       "          'wonderfully': 2})"
      ]
     },
     "execution_count": 69,
     "metadata": {},
     "output_type": "execute_result"
    }
   ],
   "source": [
    "z=[m for m in tokens if len(m)>10]\n",
    "count=FreqDist(z)\n",
    "count"
   ]
  },
  {
   "cell_type": "code",
   "execution_count": 74,
   "metadata": {},
   "outputs": [
    {
     "name": "stdout",
     "output_type": "stream",
     "text": [
      "words description count 2\n",
      "words wonderfully count 2\n"
     ]
    }
   ],
   "source": [
    "for i ,j in count.items():\n",
    "    if len(i)>10 and j>=2:\n",
    "        print(\"words\",i,\"count\",j)"
   ]
  },
  {
   "cell_type": "markdown",
   "metadata": {},
   "source": [
    "# Exercise 3"
   ]
  },
  {
   "cell_type": "markdown",
   "metadata": {},
   "source": [
    "# Step 1:"
   ]
  },
  {
   "cell_type": "code",
   "execution_count": 52,
   "metadata": {},
   "outputs": [],
   "source": [
    "f=open(\"austen-emma.txt\")"
   ]
  },
  {
   "cell_type": "code",
   "execution_count": 53,
   "metadata": {},
   "outputs": [],
   "source": [
    "etxt=f.read()"
   ]
  },
  {
   "cell_type": "code",
   "execution_count": 54,
   "metadata": {},
   "outputs": [],
   "source": [
    "f.close()"
   ]
  },
  {
   "cell_type": "code",
   "execution_count": 56,
   "metadata": {},
   "outputs": [
    {
     "data": {
      "text/plain": [
       "'e deficiencies, the wishes,\\nthe hopes, the confidence, the predictions of the small band\\nof true friends who witnessed the ceremony, were fully answered\\nin the perfect happiness of the union.\\n\\n\\nFINIS\\n'"
      ]
     },
     "execution_count": 56,
     "metadata": {},
     "output_type": "execute_result"
    }
   ],
   "source": [
    "etxt[-200:]"
   ]
  },
  {
   "cell_type": "code",
   "execution_count": 61,
   "metadata": {},
   "outputs": [],
   "source": [
    "etoks=nltk.word_tokenize(etxt.lower())"
   ]
  },
  {
   "cell_type": "code",
   "execution_count": 62,
   "metadata": {},
   "outputs": [
    {
     "data": {
      "text/plain": [
       "['of',\n",
       " 'true',\n",
       " 'friends',\n",
       " 'who',\n",
       " 'witnessed',\n",
       " 'the',\n",
       " 'ceremony',\n",
       " ',',\n",
       " 'were',\n",
       " 'fully',\n",
       " 'answered',\n",
       " 'in',\n",
       " 'the',\n",
       " 'perfect',\n",
       " 'happiness',\n",
       " 'of',\n",
       " 'the',\n",
       " 'union',\n",
       " '.',\n",
       " 'finis']"
      ]
     },
     "execution_count": 62,
     "metadata": {},
     "output_type": "execute_result"
    }
   ],
   "source": [
    "etoks[-20:]"
   ]
  },
  {
   "cell_type": "code",
   "execution_count": 63,
   "metadata": {},
   "outputs": [
    {
     "data": {
      "text/plain": [
       "191669"
      ]
     },
     "execution_count": 63,
     "metadata": {},
     "output_type": "execute_result"
    }
   ],
   "source": [
    "len(etoks)"
   ]
  },
  {
   "cell_type": "code",
   "execution_count": 64,
   "metadata": {},
   "outputs": [],
   "source": [
    "etypes=sorted(set(etoks))"
   ]
  },
  {
   "cell_type": "code",
   "execution_count": 65,
   "metadata": {},
   "outputs": [
    {
     "data": {
      "text/plain": [
       "['younger',\n",
       " 'youngest',\n",
       " 'your',\n",
       " 'yours',\n",
       " 'yourself',\n",
       " 'yourself.',\n",
       " 'youth',\n",
       " 'youthful',\n",
       " 'zeal',\n",
       " 'zigzags']"
      ]
     },
     "execution_count": 65,
     "metadata": {},
     "output_type": "execute_result"
    }
   ],
   "source": [
    "etypes[-10:]"
   ]
  },
  {
   "cell_type": "code",
   "execution_count": 66,
   "metadata": {},
   "outputs": [
    {
     "data": {
      "text/plain": [
       "8000"
      ]
     },
     "execution_count": 66,
     "metadata": {},
     "output_type": "execute_result"
    }
   ],
   "source": [
    "len(etypes)"
   ]
  },
  {
   "cell_type": "code",
   "execution_count": 67,
   "metadata": {},
   "outputs": [],
   "source": [
    "efreq=nltk.FreqDist(etoks)"
   ]
  },
  {
   "cell_type": "code",
   "execution_count": 68,
   "metadata": {},
   "outputs": [
    {
     "data": {
      "text/plain": [
       "24"
      ]
     },
     "execution_count": 68,
     "metadata": {},
     "output_type": "execute_result"
    }
   ],
   "source": [
    "efreq['beautiful']"
   ]
  },
  {
   "cell_type": "markdown",
   "metadata": {},
   "source": [
    "# Step 2:Comprehend Emma"
   ]
  },
  {
   "cell_type": "raw",
   "metadata": {},
   "source": [
    "Question 1: words with prefix and suffix"
   ]
  },
  {
   "cell_type": "code",
   "execution_count": 75,
   "metadata": {},
   "outputs": [
    {
     "data": {
      "text/plain": [
       "['unexceptionable',\n",
       " 'unsuitable',\n",
       " 'unreasonable',\n",
       " 'unreasonable',\n",
       " 'uncomfortable',\n",
       " 'unfavourable',\n",
       " 'unexceptionable',\n",
       " 'unexceptionable',\n",
       " 'uncomfortable',\n",
       " 'unpersuadable',\n",
       " 'unavoidable',\n",
       " 'unreasonable',\n",
       " 'uncomfortable',\n",
       " 'unsuitable',\n",
       " 'unmanageable',\n",
       " 'unexceptionable',\n",
       " 'unreasonable',\n",
       " 'unobjectionable',\n",
       " 'unpersuadable',\n",
       " 'unsuitable',\n",
       " 'unreasonable',\n",
       " 'uncomfortable',\n",
       " 'unexceptionable',\n",
       " 'unpardonable',\n",
       " 'unmanageable',\n",
       " 'unanswerable',\n",
       " 'unfavourable',\n",
       " 'unpersuadable',\n",
       " 'unaccountable',\n",
       " 'undesirable',\n",
       " 'unable',\n",
       " 'unable',\n",
       " 'unpardonable',\n",
       " 'unexceptionable',\n",
       " 'unreasonable',\n",
       " 'unreasonable',\n",
       " 'uncomfortable',\n",
       " 'unreasonable',\n",
       " 'unpardonable',\n",
       " 'unaccountable',\n",
       " 'unexceptionable',\n",
       " 'unreasonable',\n",
       " 'unaccountable']"
      ]
     },
     "execution_count": 75,
     "metadata": {},
     "output_type": "execute_result"
    }
   ],
   "source": [
    "[word for word in etoks if word.startswith(\"un\")& word.endswith(\"able\")]"
   ]
  },
  {
   "cell_type": "raw",
   "metadata": {},
   "source": [
    "Question 2:Length"
   ]
  },
  {
   "cell_type": "code",
   "execution_count": 76,
   "metadata": {},
   "outputs": [],
   "source": [
    "tokenizer=nltk.tokenize.WordPunctTokenizer()\n",
    "toke=tokenizer.tokenize(etxt)"
   ]
  },
  {
   "cell_type": "code",
   "execution_count": 77,
   "metadata": {},
   "outputs": [
    {
     "data": {
      "text/plain": [
       "['companionableness',\n",
       " 'misunderstanding',\n",
       " 'incomprehensible',\n",
       " 'undistinguishing',\n",
       " 'unceremoniousness',\n",
       " 'Disingenuousness',\n",
       " 'disagreeableness',\n",
       " 'misunderstandings',\n",
       " 'misunderstandings',\n",
       " 'misunderstandings',\n",
       " 'misunderstandings',\n",
       " 'disinterestedness',\n",
       " 'unseasonableness']"
      ]
     },
     "execution_count": 77,
     "metadata": {},
     "output_type": "execute_result"
    }
   ],
   "source": [
    "[word for word in toke if len(word)>15]"
   ]
  },
  {
   "cell_type": "raw",
   "metadata": {},
   "source": [
    " Question 3:Average word length"
   ]
  },
  {
   "cell_type": "code",
   "execution_count": 79,
   "metadata": {},
   "outputs": [
    {
     "data": {
      "text/plain": [
       "3.755268231589122"
      ]
     },
     "execution_count": 79,
     "metadata": {},
     "output_type": "execute_result"
    }
   ],
   "source": [
    "avg=sum(len(word)for word in toke)/len(toke)\n",
    "avg"
   ]
  },
  {
   "cell_type": "raw",
   "metadata": {},
   "source": [
    "Question 4: Word Frequency"
   ]
  },
  {
   "cell_type": "code",
   "execution_count": 83,
   "metadata": {},
   "outputs": [],
   "source": [
    "from nltk import * \n",
    "fdiemm=FreqDist(toke)"
   ]
  },
  {
   "cell_type": "code",
   "execution_count": 84,
   "metadata": {},
   "outputs": [
    {
     "name": "stdout",
     "output_type": "stream",
     "text": [
      "Emma 865\n",
      "by 558\n",
      "Jane 301\n",
      "I 3178\n",
      "Woodhouse 313\n",
      ", 11454\n",
      "and 4672\n",
      "with 1187\n",
      "a 3004\n",
      "to 5183\n",
      "some 248\n",
      "of 4279\n",
      "the 4844\n",
      "; 2199\n",
      "had 1606\n",
      "- 574\n",
      "one 413\n",
      "in 2118\n",
      "very 1151\n",
      "little 354\n",
      "or 490\n",
      "her 2381\n",
      ". 6928\n",
      "She 562\n",
      "was 2385\n",
      "most 243\n",
      "father 207\n",
      "' 1007\n",
      "s 933\n",
      "been 759\n",
      "his 1088\n",
      "from 535\n",
      "too 253\n",
      "for 1321\n",
      "have 1301\n",
      "more 464\n",
      "than 415\n",
      "an 452\n",
      "as 1387\n",
      "who 281\n",
      "Miss 592\n",
      "Mr 1153\n",
      "but 1148\n",
      "it 2128\n",
      "before 243\n",
      "any 651\n",
      "being 356\n",
      "now 273\n",
      "they 392\n",
      "what 434\n",
      "she 1778\n",
      "own 301\n",
      "The 357\n",
      "were 591\n",
      "much 478\n",
      "think 380\n",
      "well 315\n",
      "herself 279\n",
      "which 552\n",
      "at 997\n",
      "so 924\n",
      "that 1730\n",
      "did 335\n",
      "not 2101\n",
      "-- 1382\n",
      "all 835\n",
      ".-- 685\n",
      "It 400\n",
      "first 209\n",
      "on 677\n",
      "this 418\n",
      "thought 226\n",
      "no 616\n",
      "only 327\n",
      "every 398\n",
      "Weston 439\n",
      "man 233\n",
      "there 420\n",
      "always 235\n",
      "would 815\n",
      "be 1970\n",
      "how 263\n",
      "soon 221\n",
      "their 297\n",
      "other 220\n",
      "such 440\n",
      "could 825\n",
      "never 347\n",
      "them 432\n",
      "great 263\n",
      "must 564\n",
      "Mrs 699\n",
      "he 1365\n",
      "He 441\n",
      "without 211\n",
      "him 758\n",
      "time 272\n",
      "again 219\n",
      "when 312\n",
      "thing 398\n",
      "if 375\n",
      "say 308\n",
      "said 484\n",
      "\" 2004\n",
      "!-- 338\n",
      "is 1220\n",
      "you 1677\n",
      "know 337\n",
      "good 340\n",
      "my 619\n",
      "might 322\n",
      "?\" 230\n",
      "But 293\n",
      "And 224\n",
      "dear 217\n",
      ".\" 1138\n",
      "we 260\n",
      "shall 212\n",
      "see 220\n",
      "! 549\n",
      "am 422\n",
      "your 337\n",
      "sure 204\n",
      "will 559\n",
      "are 447\n",
      "You 303\n",
      "may 213\n",
      "me 564\n",
      "do 580\n",
      "about 246\n",
      "Knightley 389\n",
      "out 212\n",
      "quite 269\n",
      ",\" 421\n",
      "has 243\n",
      "should 366\n",
      "can 270\n",
      "nothing 237\n",
      "Elton 385\n",
      "Churchill 223\n",
      "Frank 208\n",
      "Harriet 506\n",
      "Fairfax 241\n"
     ]
    }
   ],
   "source": [
    "for i,j in fdiemm.items():\n",
    "    if j>200:\n",
    "        print(i,j)"
   ]
  },
  {
   "cell_type": "raw",
   "metadata": {},
   "source": [
    "Question 5: Emma words not in wlist"
   ]
  },
  {
   "cell_type": "code",
   "execution_count": 2,
   "metadata": {},
   "outputs": [
    {
     "name": "stdout",
     "output_type": "stream",
     "text": [
      "enter a word you want to search in file: emma kudo\n",
      "word not found\n"
     ]
    }
   ],
   "source": [
    "with open(\"austen-emma.txt\") as file:\n",
    "    contents = file.read()\n",
    "    search_word = input(\"enter a word you want to search in file: \")\n",
    "    if search_word in contents:\n",
    "        print ('word found')\n",
    "    else:\n",
    "        print ('word not found')"
   ]
  },
  {
   "cell_type": "markdown",
   "metadata": {},
   "source": [
    "# Step 3: Bigrams in Emma"
   ]
  },
  {
   "cell_type": "code",
   "execution_count": 72,
   "metadata": {},
   "outputs": [],
   "source": [
    "e2grams=list(nltk.bigrams(etoks))\n",
    "e2gramfd=nltk.FreqDist(e2grams)"
   ]
  },
  {
   "cell_type": "code",
   "execution_count": 81,
   "metadata": {},
   "outputs": [
    {
     "data": {
      "text/plain": [
       "FreqDist({('[', 'emma'): 1,\n",
       "          ('emma', 'by'): 1,\n",
       "          ('by', 'jane'): 2,\n",
       "          ('jane', 'austen'): 1,\n",
       "          ('austen', '1816'): 1,\n",
       "          ('1816', ']'): 1,\n",
       "          (']', 'volume'): 1,\n",
       "          ('volume', 'i'): 1,\n",
       "          ('i', 'chapter'): 1,\n",
       "          ('chapter', 'i'): 3,\n",
       "          ('i', 'emma'): 2,\n",
       "          ('emma', 'woodhouse'): 4,\n",
       "          ('woodhouse', ','): 118,\n",
       "          (',', 'handsome'): 5,\n",
       "          ('handsome', ','): 6,\n",
       "          (',', 'clever'): 1,\n",
       "          ('clever', ','): 7,\n",
       "          (',', 'and'): 1882,\n",
       "          ('and', 'rich'): 1,\n",
       "          ('rich', ','): 3,\n",
       "          (',', 'with'): 177,\n",
       "          ('with', 'a'): 122,\n",
       "          ('a', 'comfortable'): 3,\n",
       "          ('comfortable', 'home'): 2,\n",
       "          ('home', 'and'): 4,\n",
       "          ('and', 'happy'): 8,\n",
       "          ('happy', 'disposition'): 1,\n",
       "          ('disposition', ','): 5,\n",
       "          (',', 'seemed'): 13,\n",
       "          ('seemed', 'to'): 44,\n",
       "          ('to', 'unite'): 1,\n",
       "          ('unite', 'some'): 1,\n",
       "          ('some', 'of'): 20,\n",
       "          ('of', 'the'): 559,\n",
       "          ('the', 'best'): 40,\n",
       "          ('best', 'blessings'): 2,\n",
       "          ('blessings', 'of'): 3,\n",
       "          ('of', 'existence'): 4,\n",
       "          ('existence', ';'): 2,\n",
       "          (';', 'and'): 867,\n",
       "          ('and', 'had'): 34,\n",
       "          ('had', 'lived'): 7,\n",
       "          ('lived', 'nearly'): 1,\n",
       "          ('nearly', 'twenty-one'): 1,\n",
       "          ('twenty-one', 'years'): 1,\n",
       "          ('years', 'in'): 2,\n",
       "          ('in', 'the'): 445,\n",
       "          ('the', 'world'): 74,\n",
       "          ('world', 'with'): 1,\n",
       "          ('with', 'very'): 3,\n",
       "          ('very', 'little'): 28,\n",
       "          ('little', 'to'): 7,\n",
       "          ('to', 'distress'): 2,\n",
       "          ('distress', 'or'): 1,\n",
       "          ('or', 'vex'): 1,\n",
       "          ('vex', 'her'): 1,\n",
       "          ('her', '.'): 136,\n",
       "          ('.', 'she'): 413,\n",
       "          ('she', 'was'): 328,\n",
       "          ('was', 'the'): 90,\n",
       "          ('the', 'youngest'): 3,\n",
       "          ('youngest', 'of'): 2,\n",
       "          ('the', 'two'): 48,\n",
       "          ('two', 'daughters'): 3,\n",
       "          ('daughters', 'of'): 2,\n",
       "          ('of', 'a'): 149,\n",
       "          ('a', 'most'): 56,\n",
       "          ('most', 'affectionate'): 1,\n",
       "          ('affectionate', ','): 2,\n",
       "          (',', 'indulgent'): 1,\n",
       "          ('indulgent', 'father'): 1,\n",
       "          ('father', ';'): 7,\n",
       "          ('had', ','): 18,\n",
       "          (',', 'in'): 237,\n",
       "          ('in', 'consequence'): 2,\n",
       "          ('consequence', 'of'): 5,\n",
       "          ('of', 'her'): 260,\n",
       "          ('her', 'sister'): 9,\n",
       "          ('sister', \"'s\"): 6,\n",
       "          (\"'s\", 'marriage'): 7,\n",
       "          ('marriage', ','): 9,\n",
       "          (',', 'been'): 6,\n",
       "          ('been', 'mistress'): 2,\n",
       "          ('mistress', 'of'): 8,\n",
       "          ('of', 'his'): 190,\n",
       "          ('his', 'house'): 7,\n",
       "          ('house', 'from'): 2,\n",
       "          ('from', 'a'): 16,\n",
       "          ('a', 'very'): 198,\n",
       "          ('very', 'early'): 4,\n",
       "          ('early', 'period'): 1,\n",
       "          ('period', '.'): 3,\n",
       "          ('.', 'her'): 76,\n",
       "          ('her', 'mother'): 9,\n",
       "          ('mother', 'had'): 3,\n",
       "          ('had', 'died'): 2,\n",
       "          ('died', 'too'): 1,\n",
       "          ('too', 'long'): 2,\n",
       "          ('long', 'ago'): 3,\n",
       "          ('ago', 'for'): 2,\n",
       "          ('for', 'her'): 122,\n",
       "          ('her', 'to'): 93,\n",
       "          ('to', 'have'): 184,\n",
       "          ('have', 'more'): 4,\n",
       "          ('more', 'than'): 80,\n",
       "          ('than', 'an'): 5,\n",
       "          ('an', 'indistinct'): 1,\n",
       "          ('indistinct', 'remembrance'): 1,\n",
       "          ('remembrance', 'of'): 7,\n",
       "          ('her', 'caresses'): 1,\n",
       "          ('caresses', ';'): 1,\n",
       "          ('and', 'her'): 68,\n",
       "          ('her', 'place'): 4,\n",
       "          ('place', 'had'): 2,\n",
       "          ('had', 'been'): 307,\n",
       "          ('been', 'supplied'): 1,\n",
       "          ('supplied', 'by'): 1,\n",
       "          ('by', 'an'): 1,\n",
       "          ('an', 'excellent'): 20,\n",
       "          ('excellent', 'woman'): 1,\n",
       "          ('woman', 'as'): 4,\n",
       "          ('as', 'governess'): 4,\n",
       "          ('governess', ','): 4,\n",
       "          (',', 'who'): 128,\n",
       "          ('who', 'had'): 49,\n",
       "          ('had', 'fallen'): 2,\n",
       "          ('fallen', 'little'): 1,\n",
       "          ('little', 'short'): 1,\n",
       "          ('short', 'of'): 2,\n",
       "          ('a', 'mother'): 4,\n",
       "          ('mother', 'in'): 2,\n",
       "          ('in', 'affection'): 1,\n",
       "          ('affection', '.'): 6,\n",
       "          ('.', 'sixteen'): 2,\n",
       "          ('sixteen', 'years'): 4,\n",
       "          ('years', 'had'): 1,\n",
       "          ('had', 'miss'): 3,\n",
       "          ('miss', 'taylor'): 47,\n",
       "          ('taylor', 'been'): 1,\n",
       "          ('been', 'in'): 23,\n",
       "          ('in', 'mr.'): 13,\n",
       "          ('mr.', 'woodhouse'): 131,\n",
       "          ('woodhouse', \"'s\"): 34,\n",
       "          (\"'s\", 'family'): 7,\n",
       "          ('family', ','): 27,\n",
       "          (',', 'less'): 4,\n",
       "          ('less', 'as'): 1,\n",
       "          ('as', 'a'): 64,\n",
       "          ('a', 'governess'): 2,\n",
       "          ('governess', 'than'): 1,\n",
       "          ('than', 'a'): 20,\n",
       "          ('a', 'friend'): 28,\n",
       "          ('friend', ','): 34,\n",
       "          (',', 'very'): 56,\n",
       "          ('very', 'fond'): 9,\n",
       "          ('fond', 'of'): 33,\n",
       "          ('of', 'both'): 12,\n",
       "          ('both', 'daughters'): 1,\n",
       "          ('daughters', ','): 2,\n",
       "          (',', 'but'): 303,\n",
       "          ('but', 'particularly'): 4,\n",
       "          ('particularly', 'of'): 1,\n",
       "          ('of', 'emma'): 11,\n",
       "          ('emma', '.'): 50,\n",
       "          ('.', 'between'): 1,\n",
       "          ('between', '_them_'): 1,\n",
       "          ('_them_', 'it'): 1,\n",
       "          ('it', 'was'): 442,\n",
       "          ('was', 'more'): 16,\n",
       "          ('more', 'the'): 3,\n",
       "          ('the', 'intimacy'): 3,\n",
       "          ('intimacy', 'of'): 1,\n",
       "          ('of', 'sisters'): 1,\n",
       "          ('sisters', '.'): 1,\n",
       "          ('.', 'even'): 8,\n",
       "          ('even', 'before'): 1,\n",
       "          ('before', 'miss'): 4,\n",
       "          ('taylor', 'had'): 4,\n",
       "          ('had', 'ceased'): 1,\n",
       "          ('ceased', 'to'): 3,\n",
       "          ('to', 'hold'): 7,\n",
       "          ('hold', 'the'): 2,\n",
       "          ('the', 'nominal'): 1,\n",
       "          ('nominal', 'office'): 1,\n",
       "          ('office', 'of'): 2,\n",
       "          ('of', 'governess'): 1,\n",
       "          (',', 'the'): 226,\n",
       "          ('the', 'mildness'): 1,\n",
       "          ('mildness', 'of'): 1,\n",
       "          ('her', 'temper'): 4,\n",
       "          ('temper', 'had'): 2,\n",
       "          ('had', 'hardly'): 3,\n",
       "          ('hardly', 'allowed'): 1,\n",
       "          ('allowed', 'her'): 5,\n",
       "          ('to', 'impose'): 1,\n",
       "          ('impose', 'any'): 1,\n",
       "          ('any', 'restraint'): 2,\n",
       "          ('restraint', ';'): 1,\n",
       "          ('and', 'the'): 224,\n",
       "          ('the', 'shadow'): 1,\n",
       "          ('shadow', 'of'): 1,\n",
       "          ('of', 'authority'): 1,\n",
       "          ('authority', 'being'): 1,\n",
       "          ('being', 'now'): 4,\n",
       "          ('now', 'long'): 1,\n",
       "          ('long', 'passed'): 2,\n",
       "          ('passed', 'away'): 6,\n",
       "          ('away', ','): 26,\n",
       "          (',', 'they'): 42,\n",
       "          ('they', 'had'): 49,\n",
       "          ('been', 'living'): 1,\n",
       "          ('living', 'together'): 2,\n",
       "          ('together', 'as'): 3,\n",
       "          ('as', 'friend'): 1,\n",
       "          ('friend', 'and'): 8,\n",
       "          ('and', 'friend'): 2,\n",
       "          ('friend', 'very'): 2,\n",
       "          ('very', 'mutually'): 2,\n",
       "          ('mutually', 'attached'): 1,\n",
       "          ('attached', ','): 2,\n",
       "          ('and', 'emma'): 67,\n",
       "          ('emma', 'doing'): 1,\n",
       "          ('doing', 'just'): 2,\n",
       "          ('just', 'what'): 15,\n",
       "          ('what', 'she'): 46,\n",
       "          ('she', 'liked'): 5,\n",
       "          ('liked', ';'): 1,\n",
       "          (';', 'highly'): 2,\n",
       "          ('highly', 'esteeming'): 1,\n",
       "          ('esteeming', 'miss'): 1,\n",
       "          ('taylor', \"'s\"): 8,\n",
       "          (\"'s\", 'judgment'): 2,\n",
       "          ('judgment', ','): 7,\n",
       "          ('but', 'directed'): 1,\n",
       "          ('directed', 'chiefly'): 1,\n",
       "          ('chiefly', 'by'): 1,\n",
       "          ('by', 'her'): 43,\n",
       "          ('her', 'own'): 132,\n",
       "          ('own', '.'): 17,\n",
       "          ('.', 'the'): 250,\n",
       "          ('the', 'real'): 6,\n",
       "          ('real', 'evils'): 1,\n",
       "          ('evils', ','): 2,\n",
       "          (',', 'indeed'): 85,\n",
       "          ('indeed', ','): 68,\n",
       "          (',', 'of'): 106,\n",
       "          ('emma', \"'s\"): 74,\n",
       "          (\"'s\", 'situation'): 8,\n",
       "          ('situation', 'were'): 1,\n",
       "          ('were', 'the'): 19,\n",
       "          ('the', 'power'): 14,\n",
       "          ('power', 'of'): 18,\n",
       "          ('of', 'having'): 26,\n",
       "          ('having', 'rather'): 1,\n",
       "          ('rather', 'too'): 6,\n",
       "          ('too', 'much'): 43,\n",
       "          ('much', 'her'): 3,\n",
       "          ('own', 'way'): 7,\n",
       "          ('way', ','): 26,\n",
       "          ('and', 'a'): 83,\n",
       "          ('a', 'disposition'): 4,\n",
       "          ('disposition', 'to'): 4,\n",
       "          ('to', 'think'): 69,\n",
       "          ('think', 'a'): 4,\n",
       "          ('a', 'little'): 150,\n",
       "          ('little', 'too'): 4,\n",
       "          ('too', 'well'): 7,\n",
       "          ('well', 'of'): 9,\n",
       "          ('of', 'herself'): 10,\n",
       "          ('herself', ';'): 19,\n",
       "          (';', 'these'): 2,\n",
       "          ('these', 'were'): 7,\n",
       "          ('the', 'disadvantages'): 1,\n",
       "          ('disadvantages', 'which'): 1,\n",
       "          ('which', 'threatened'): 1,\n",
       "          ('threatened', 'alloy'): 1,\n",
       "          ('alloy', 'to'): 1,\n",
       "          ('to', 'her'): 184,\n",
       "          ('her', 'many'): 3,\n",
       "          ('many', 'enjoyments'): 1,\n",
       "          ('enjoyments', '.'): 1,\n",
       "          ('the', 'danger'): 7,\n",
       "          ('danger', ','): 5,\n",
       "          (',', 'however'): 100,\n",
       "          ('however', ','): 111,\n",
       "          (',', 'was'): 171,\n",
       "          ('was', 'at'): 24,\n",
       "          ('at', 'present'): 30,\n",
       "          ('present', 'so'): 2,\n",
       "          ('so', 'unperceived'): 1,\n",
       "          ('unperceived', ','): 1,\n",
       "          (',', 'that'): 360,\n",
       "          ('that', 'they'): 33,\n",
       "          ('they', 'did'): 10,\n",
       "          ('did', 'not'): 183,\n",
       "          ('not', 'by'): 10,\n",
       "          ('by', 'any'): 30,\n",
       "          ('any', 'means'): 7,\n",
       "          ('means', 'rank'): 1,\n",
       "          ('rank', 'as'): 2,\n",
       "          ('as', 'misfortunes'): 1,\n",
       "          ('misfortunes', 'with'): 1,\n",
       "          ('with', 'her'): 104,\n",
       "          ('.', 'sorrow'): 1,\n",
       "          ('sorrow', 'came'): 1,\n",
       "          ('came', '--'): 4,\n",
       "          ('--', 'a'): 65,\n",
       "          ('a', 'gentle'): 3,\n",
       "          ('gentle', 'sorrow'): 1,\n",
       "          ('sorrow', '--'): 1,\n",
       "          ('--', 'but'): 232,\n",
       "          ('but', 'not'): 28,\n",
       "          ('not', 'at'): 39,\n",
       "          ('at', 'all'): 116,\n",
       "          ('all', 'in'): 19,\n",
       "          ('the', 'shape'): 3,\n",
       "          ('shape', 'of'): 3,\n",
       "          ('of', 'any'): 48,\n",
       "          ('any', 'disagreeable'): 1,\n",
       "          ('disagreeable', 'consciousness.'): 1,\n",
       "          ('consciousness.', '--'): 1,\n",
       "          ('--', 'miss'): 18,\n",
       "          ('taylor', 'married'): 1,\n",
       "          ('married', '.'): 11,\n",
       "          ('.', 'it'): 266,\n",
       "          ('was', 'miss'): 1,\n",
       "          (\"'s\", 'loss'): 3,\n",
       "          ('loss', 'which'): 1,\n",
       "          ('which', 'first'): 1,\n",
       "          ('first', 'brought'): 1,\n",
       "          ('brought', 'grief'): 1,\n",
       "          ('grief', '.'): 1,\n",
       "          ('was', 'on'): 8,\n",
       "          ('on', 'the'): 150,\n",
       "          ('the', 'wedding-day'): 1,\n",
       "          ('wedding-day', 'of'): 1,\n",
       "          ('of', 'this'): 55,\n",
       "          ('this', 'beloved'): 1,\n",
       "          ('beloved', 'friend'): 1,\n",
       "          ('friend', 'that'): 2,\n",
       "          ('that', 'emma'): 24,\n",
       "          ('emma', 'first'): 2,\n",
       "          ('first', 'sat'): 1,\n",
       "          ('sat', 'in'): 1,\n",
       "          ('in', 'mournful'): 1,\n",
       "          ('mournful', 'thought'): 1,\n",
       "          ('thought', 'of'): 35,\n",
       "          ('any', 'continuance'): 1,\n",
       "          ('continuance', '.'): 1,\n",
       "          ('the', 'wedding'): 5,\n",
       "          ('wedding', 'over'): 1,\n",
       "          ('over', ','): 21,\n",
       "          ('the', 'bride-people'): 1,\n",
       "          ('bride-people', 'gone'): 1,\n",
       "          ('gone', ','): 12,\n",
       "          (',', 'her'): 48,\n",
       "          ('her', 'father'): 95,\n",
       "          ('father', 'and'): 14,\n",
       "          ('and', 'herself'): 7,\n",
       "          ('herself', 'were'): 1,\n",
       "          ('were', 'left'): 5,\n",
       "          ('left', 'to'): 10,\n",
       "          ('to', 'dine'): 6,\n",
       "          ('dine', 'together'): 1,\n",
       "          ('together', ','): 20,\n",
       "          ('with', 'no'): 11,\n",
       "          ('no', 'prospect'): 1,\n",
       "          ('prospect', 'of'): 9,\n",
       "          ('a', 'third'): 2,\n",
       "          ('third', 'to'): 1,\n",
       "          ('to', 'cheer'): 4,\n",
       "          ('cheer', 'a'): 1,\n",
       "          ('a', 'long'): 10,\n",
       "          ('long', 'evening'): 1,\n",
       "          ('evening', '.'): 10,\n",
       "          ('father', 'composed'): 1,\n",
       "          ('composed', 'himself'): 1,\n",
       "          ('himself', 'to'): 8,\n",
       "          ('to', 'sleep'): 2,\n",
       "          ('sleep', 'after'): 1,\n",
       "          ('after', 'dinner'): 9,\n",
       "          ('dinner', ','): 21,\n",
       "          (',', 'as'): 292,\n",
       "          ('as', 'usual'): 11,\n",
       "          ('usual', ','): 11,\n",
       "          ('and', 'she'): 115,\n",
       "          ('she', 'had'): 332,\n",
       "          ('had', 'then'): 4,\n",
       "          ('then', 'only'): 2,\n",
       "          ('only', 'to'): 23,\n",
       "          ('to', 'sit'): 16,\n",
       "          ('sit', 'and'): 5,\n",
       "          ('and', 'think'): 5,\n",
       "          ('think', 'of'): 70,\n",
       "          ('of', 'what'): 42,\n",
       "          ('had', 'lost'): 3,\n",
       "          ('lost', '.'): 2,\n",
       "          ('the', 'event'): 11,\n",
       "          ('event', 'had'): 3,\n",
       "          ('had', 'every'): 2,\n",
       "          ('every', 'promise'): 1,\n",
       "          ('promise', 'of'): 2,\n",
       "          ('of', 'happiness'): 6,\n",
       "          ('happiness', 'for'): 1,\n",
       "          ('her', 'friend'): 40,\n",
       "          ('friend', '.'): 24,\n",
       "          ('.', 'mr.'): 127,\n",
       "          ('mr.', 'weston'): 158,\n",
       "          ('weston', 'was'): 35,\n",
       "          ('was', 'a'): 147,\n",
       "          ('a', 'man'): 57,\n",
       "          ('man', 'of'): 13,\n",
       "          ('of', 'unexceptionable'): 1,\n",
       "          ('unexceptionable', 'character'): 1,\n",
       "          ('character', ','): 14,\n",
       "          (',', 'easy'): 2,\n",
       "          ('easy', 'fortune'): 1,\n",
       "          ('fortune', ','): 14,\n",
       "          (',', 'suitable'): 2,\n",
       "          ('suitable', 'age'): 1,\n",
       "          ('age', ','): 10,\n",
       "          ('and', 'pleasant'): 4,\n",
       "          ('pleasant', 'manners'): 1,\n",
       "          ('manners', ';'): 2,\n",
       "          ('and', 'there'): 33,\n",
       "          ('there', 'was'): 139,\n",
       "          ('was', 'some'): 4,\n",
       "          ('some', 'satisfaction'): 1,\n",
       "          ('satisfaction', 'in'): 4,\n",
       "          ('in', 'considering'): 1,\n",
       "          ('considering', 'with'): 1,\n",
       "          ('with', 'what'): 11,\n",
       "          ('what', 'self-denying'): 1,\n",
       "          ('self-denying', ','): 1,\n",
       "          (',', 'generous'): 3,\n",
       "          ('generous', 'friendship'): 1,\n",
       "          ('friendship', 'she'): 1,\n",
       "          ('had', 'always'): 13,\n",
       "          ('always', 'wished'): 2,\n",
       "          ('wished', 'and'): 1,\n",
       "          ('and', 'promoted'): 1,\n",
       "          ('promoted', 'the'): 1,\n",
       "          ('the', 'match'): 13,\n",
       "          ('match', ';'): 2,\n",
       "          (';', 'but'): 427,\n",
       "          ('but', 'it'): 90,\n",
       "          ('a', 'black'): 1,\n",
       "          ('black', 'morning'): 1,\n",
       "          ('morning', \"'s\"): 2,\n",
       "          (\"'s\", 'work'): 1,\n",
       "          ('work', 'for'): 2,\n",
       "          ('the', 'want'): 8,\n",
       "          ('want', 'of'): 32,\n",
       "          ('of', 'miss'): 36,\n",
       "          ('taylor', 'would'): 1,\n",
       "          ('would', 'be'): 215,\n",
       "          ('be', 'felt'): 4,\n",
       "          ('felt', 'every'): 2,\n",
       "          ('every', 'hour'): 3,\n",
       "          ('hour', 'of'): 11,\n",
       "          ('of', 'every'): 40,\n",
       "          ('every', 'day'): 16,\n",
       "          ('day', '.'): 17,\n",
       "          ('she', 'recalled'): 1,\n",
       "          ('recalled', 'her'): 1,\n",
       "          ('her', 'past'): 3,\n",
       "          ('past', 'kindness'): 1,\n",
       "          ('kindness', '--'): 2,\n",
       "          ('--', 'the'): 81,\n",
       "          ('the', 'kindness'): 6,\n",
       "          ('kindness', ','): 10,\n",
       "          ('the', 'affection'): 6,\n",
       "          ('affection', 'of'): 3,\n",
       "          ('of', 'sixteen'): 1,\n",
       "          ('years', '--'): 2,\n",
       "          ('--', 'how'): 42,\n",
       "          ('how', 'she'): 17,\n",
       "          ('had', 'taught'): 2,\n",
       "          ('taught', 'and'): 1,\n",
       "          ('and', 'how'): 29,\n",
       "          ('had', 'played'): 1,\n",
       "          ('played', 'with'): 1,\n",
       "          ('her', 'from'): 19,\n",
       "          ('from', 'five'): 1,\n",
       "          ('five', 'years'): 1,\n",
       "          ('years', 'old'): 10,\n",
       "          ('old', '--'): 1,\n",
       "          ('had', 'devoted'): 1,\n",
       "          ('devoted', 'all'): 1,\n",
       "          ('all', 'her'): 46,\n",
       "          ('her', 'powers'): 2,\n",
       "          ('powers', 'to'): 1,\n",
       "          ('to', 'attach'): 4,\n",
       "          ('attach', 'and'): 1,\n",
       "          ('and', 'amuse'): 3,\n",
       "          ('amuse', 'her'): 3,\n",
       "          ('her', 'in'): 39,\n",
       "          ('in', 'health'): 2,\n",
       "          ('health', '--'): 3,\n",
       "          ('--', 'and'): 334,\n",
       "          ('how', 'nursed'): 1,\n",
       "          ('nursed', 'her'): 1,\n",
       "          ('her', 'through'): 2,\n",
       "          ('through', 'the'): 20,\n",
       "          ('the', 'various'): 1,\n",
       "          ('various', 'illnesses'): 1,\n",
       "          ('illnesses', 'of'): 1,\n",
       "          ('of', 'childhood'): 1,\n",
       "          ('childhood', '.'): 1,\n",
       "          ('.', 'a'): 84,\n",
       "          ('a', 'large'): 10,\n",
       "          ('large', 'debt'): 1,\n",
       "          ('debt', 'of'): 1,\n",
       "          ('of', 'gratitude'): 4,\n",
       "          ('gratitude', 'was'): 1,\n",
       "          ('was', 'owing'): 2,\n",
       "          ('owing', 'here'): 1,\n",
       "          ('here', ';'): 2,\n",
       "          ('but', 'the'): 52,\n",
       "          ('the', 'intercourse'): 1,\n",
       "          ('intercourse', 'of'): 2,\n",
       "          ('the', 'last'): 24,\n",
       "          ('last', 'seven'): 1,\n",
       "          ('seven', 'years'): 1,\n",
       "          ('years', ','): 5,\n",
       "          ('the', 'equal'): 2,\n",
       "          ('equal', 'footing'): 2,\n",
       "          ('footing', 'and'): 1,\n",
       "          ('and', 'perfect'): 2,\n",
       "          ('perfect', 'unreserve'): 1,\n",
       "          ('unreserve', 'which'): 2,\n",
       "          ('which', 'had'): 24,\n",
       "          ('had', 'soon'): 6,\n",
       "          ('soon', 'followed'): 5,\n",
       "          ('followed', 'isabella'): 1,\n",
       "          ('isabella', \"'s\"): 13,\n",
       "          (',', 'on'): 68,\n",
       "          ('on', 'their'): 6,\n",
       "          ('their', 'being'): 12,\n",
       "          ('being', 'left'): 2,\n",
       "          ('to', 'each'): 8,\n",
       "          ('each', 'other'): 23,\n",
       "          ('other', ','): 23,\n",
       "          ('was', 'yet'): 5,\n",
       "          ('yet', 'a'): 1,\n",
       "          ('a', 'dearer'): 1,\n",
       "          ('dearer', ','): 3,\n",
       "          (',', 'tenderer'): 1,\n",
       "          ('tenderer', 'recollection'): 1,\n",
       "          ('recollection', '.'): 2,\n",
       "          ('been', 'a'): 45,\n",
       "          ('and', 'companion'): 1,\n",
       "          ('companion', 'such'): 1,\n",
       "          ('such', 'as'): 14,\n",
       "          ('as', 'few'): 2,\n",
       "          ('few', 'possessed'): 1,\n",
       "          ('possessed', ':'): 1,\n",
       "          (':', 'intelligent'): 1,\n",
       "          ('intelligent', ','): 2,\n",
       "          (',', 'well-informed'): 1,\n",
       "          ('well-informed', ','): 1,\n",
       "          (',', 'useful'): 2,\n",
       "          ('useful', ','): 4,\n",
       "          (',', 'gentle'): 3,\n",
       "          ('gentle', ','): 2,\n",
       "          (',', 'knowing'): 3,\n",
       "          ('knowing', 'all'): 1,\n",
       "          ('all', 'the'): 167,\n",
       "          ('the', 'ways'): 3,\n",
       "          ('ways', 'of'): 5,\n",
       "          ('the', 'family'): 14,\n",
       "          (',', 'interested'): 1,\n",
       "          ('interested', 'in'): 5,\n",
       "          ('in', 'all'): 26,\n",
       "          ('all', 'its'): 2,\n",
       "          ('its', 'concerns'): 1,\n",
       "          ('concerns', ','): 1,\n",
       "          ('and', 'peculiarly'): 1,\n",
       "          ('peculiarly', 'interested'): 1,\n",
       "          ('in', 'herself'): 6,\n",
       "          ('herself', ','): 75,\n",
       "          ('in', 'every'): 26,\n",
       "          ('every', 'pleasure'): 1,\n",
       "          ('pleasure', ','): 23,\n",
       "          (',', 'every'): 21,\n",
       "          ('every', 'scheme'): 1,\n",
       "          ('scheme', 'of'): 2,\n",
       "          ('of', 'hers'): 4,\n",
       "          ('hers', '--'): 1,\n",
       "          ('--', 'one'): 14,\n",
       "          ('one', 'to'): 4,\n",
       "          ('to', 'whom'): 19,\n",
       "          ('whom', 'she'): 19,\n",
       "          ('she', 'could'): 171,\n",
       "          ('could', 'speak'): 4,\n",
       "          ('speak', 'every'): 1,\n",
       "          ('every', 'thought'): 2,\n",
       "          ('thought', 'as'): 1,\n",
       "          ('as', 'it'): 40,\n",
       "          ('it', 'arose'): 1,\n",
       "          ('arose', ','): 2,\n",
       "          ('and', 'who'): 19,\n",
       "          ('had', 'such'): 7,\n",
       "          ('such', 'an'): 63,\n",
       "          ('an', 'affection'): 3,\n",
       "          ('affection', 'for'): 4,\n",
       "          ('her', 'as'): 18,\n",
       "          ('as', 'could'): 6,\n",
       "          ('could', 'never'): 14,\n",
       "          ('never', 'find'): 1,\n",
       "          ('find', 'fault'): 3,\n",
       "          ('fault', '.'): 3,\n",
       "          ('.', 'how'): 39,\n",
       "          ('how', 'was'): 4,\n",
       "          ('was', 'she'): 7,\n",
       "          ('she', 'to'): 4,\n",
       "          ('to', 'bear'): 9,\n",
       "          ('bear', 'the'): 3,\n",
       "          ('the', 'change'): 11,\n",
       "          ('change', '?'): 2,\n",
       "          ('?', '--'): 202,\n",
       "          ('--', 'it'): 87,\n",
       "          ('was', 'true'): 2,\n",
       "          ('true', 'that'): 2,\n",
       "          ('that', 'her'): 26,\n",
       "          ('friend', 'was'): 4,\n",
       "          ('was', 'going'): 16,\n",
       "          ('going', 'only'): 1,\n",
       "          ('only', 'half'): 5,\n",
       "          ('half', 'a'): 37,\n",
       "          ('a', 'mile'): 11,\n",
       "          ('mile', 'from'): 3,\n",
       "          ('from', 'them'): 10,\n",
       "          ('them', ';'): 17,\n",
       "          ('but', 'emma'): 19,\n",
       "          ('emma', 'was'): 64,\n",
       "          ('was', 'aware'): 4,\n",
       "          ('aware', 'that'): 3,\n",
       "          ('that', 'great'): 1,\n",
       "          ('great', 'must'): 1,\n",
       "          ('must', 'be'): 181,\n",
       "          ('be', 'the'): 69,\n",
       "          ('the', 'difference'): 13,\n",
       "          ('difference', 'between'): 3,\n",
       "          ('between', 'a'): 1,\n",
       "          ('a', 'mrs.'): 4,\n",
       "          ('mrs.', 'weston'): 246,\n",
       "          ('weston', ','): 112,\n",
       "          (',', 'only'): 11,\n",
       "          ('them', ','): 72,\n",
       "          ('a', 'miss'): 8,\n",
       "          ('taylor', 'in'): 1,\n",
       "          ('the', 'house'): 48,\n",
       "          ('house', ';'): 8,\n",
       "          ('and', 'with'): 42,\n",
       "          ('with', 'all'): 52,\n",
       "          ('her', 'advantages'): 1,\n",
       "          ('advantages', ','): 2,\n",
       "          (',', 'natural'): 3,\n",
       "          ('natural', 'and'): 6,\n",
       "          ('and', 'domestic'): 1,\n",
       "          ('domestic', ','): 2,\n",
       "          (',', 'she'): 304,\n",
       "          ('was', 'now'): 31,\n",
       "          ('now', 'in'): 9,\n",
       "          ('in', 'great'): 7,\n",
       "          ('great', 'danger'): 1,\n",
       "          ('danger', 'of'): 19,\n",
       "          ('of', 'suffering'): 2,\n",
       "          ('suffering', 'from'): 3,\n",
       "          ('from', 'intellectual'): 1,\n",
       "          ('intellectual', 'solitude'): 1,\n",
       "          ('solitude', '.'): 1,\n",
       "          ('she', 'dearly'): 1,\n",
       "          ('dearly', 'loved'): 1,\n",
       "          ('loved', 'her'): 8,\n",
       "          ('father', ','): 36,\n",
       "          ('but', 'he'): 49,\n",
       "          ('he', 'was'): 222,\n",
       "          ('was', 'no'): 48,\n",
       "          ('no', 'companion'): 1,\n",
       "          ('companion', 'for'): 4,\n",
       "          ('.', 'he'): 303,\n",
       "          ('he', 'could'): 96,\n",
       "          ('could', 'not'): 278,\n",
       "          ('not', 'meet'): 2,\n",
       "          ('meet', 'her'): 2,\n",
       "          ('in', 'conversation'): 4,\n",
       "          ('conversation', ','): 12,\n",
       "          (',', 'rational'): 3,\n",
       "          ('rational', 'or'): 1,\n",
       "          ('or', 'playful'): 1,\n",
       "          ('playful', '.'): 1,\n",
       "          ('the', 'evil'): 14,\n",
       "          ('evil', 'of'): 4,\n",
       "          ('the', 'actual'): 2,\n",
       "          ('actual', 'disparity'): 1,\n",
       "          ('disparity', 'in'): 1,\n",
       "          ('in', 'their'): 33,\n",
       "          ('their', 'ages'): 2,\n",
       "          ('ages', '('): 1,\n",
       "          ('(', 'and'): 4,\n",
       "          ('and', 'mr.'): 78,\n",
       "          ('woodhouse', 'had'): 9,\n",
       "          ('had', 'not'): 112,\n",
       "          ('not', 'married'): 2,\n",
       "          ('married', 'early'): 1,\n",
       "          ('early', ')'): 1,\n",
       "          (')', 'was'): 2,\n",
       "          ('was', 'much'): 6,\n",
       "          ('much', 'increased'): 2,\n",
       "          ('increased', 'by'): 3,\n",
       "          ('by', 'his'): 20,\n",
       "          ('his', 'constitution'): 3,\n",
       "          ('constitution', 'and'): 1,\n",
       "          ('and', 'habits'): 2,\n",
       "          ('habits', ';'): 2,\n",
       "          (';', 'for'): 69,\n",
       "          ('for', 'having'): 12,\n",
       "          ('having', 'been'): 5,\n",
       "          ('a', 'valetudinarian'): 1,\n",
       "          ('valetudinarian', 'all'): 1,\n",
       "          ('all', 'his'): 16,\n",
       "          ('his', 'life'): 16,\n",
       "          ('life', ','): 12,\n",
       "          (',', 'without'): 64,\n",
       "          ('without', 'activity'): 1,\n",
       "          ('activity', 'of'): 1,\n",
       "          ('of', 'mind'): 25,\n",
       "          ('mind', 'or'): 3,\n",
       "          ('or', 'body'): 1,\n",
       "          ('body', ','): 16,\n",
       "          (',', 'he'): 204,\n",
       "          ('a', 'much'): 12,\n",
       "          ('much', 'older'): 1,\n",
       "          ('older', 'man'): 1,\n",
       "          ('man', 'in'): 7,\n",
       "          ('in', 'ways'): 1,\n",
       "          ('ways', 'than'): 1,\n",
       "          ('than', 'in'): 7,\n",
       "          ('in', 'years'): 1,\n",
       "          ('years', ';'): 2,\n",
       "          ('and', 'though'): 35,\n",
       "          ('though', 'everywhere'): 1,\n",
       "          ('everywhere', 'beloved'): 1,\n",
       "          ('beloved', 'for'): 1,\n",
       "          ('for', 'the'): 169,\n",
       "          ('the', 'friendliness'): 1,\n",
       "          ('friendliness', 'of'): 1,\n",
       "          ('his', 'heart'): 5,\n",
       "          ('heart', 'and'): 6,\n",
       "          ('and', 'his'): 63,\n",
       "          ('his', 'amiable'): 1,\n",
       "          ('amiable', 'temper'): 1,\n",
       "          ('temper', ','): 7,\n",
       "          (',', 'his'): 28,\n",
       "          ('his', 'talents'): 1,\n",
       "          ('talents', 'could'): 1,\n",
       "          ('not', 'have'): 102,\n",
       "          ('have', 'recommended'): 1,\n",
       "          ('recommended', 'him'): 1,\n",
       "          ('him', 'at'): 17,\n",
       "          ('at', 'any'): 25,\n",
       "          ('any', 'time'): 12,\n",
       "          ('time', '.'): 30,\n",
       "          ('sister', ','): 7,\n",
       "          (',', 'though'): 95,\n",
       "          ('though', 'comparatively'): 1,\n",
       "          ('comparatively', 'but'): 1,\n",
       "          ('but', 'little'): 2,\n",
       "          ('little', 'removed'): 1,\n",
       "          ('removed', 'by'): 1,\n",
       "          ('by', 'matrimony'): 1,\n",
       "          ('matrimony', ','): 2,\n",
       "          (',', 'being'): 13,\n",
       "          ('being', 'settled'): 2,\n",
       "          ('settled', 'in'): 4,\n",
       "          ('in', 'london'): 19,\n",
       "          ('london', ','): 19,\n",
       "          ('only', 'sixteen'): 1,\n",
       "          ('sixteen', 'miles'): 5,\n",
       "          ('miles', 'off'): 2,\n",
       "          ('off', ','): 16,\n",
       "          ('much', 'beyond'): 8,\n",
       "          ('beyond', 'her'): 4,\n",
       "          ('her', 'daily'): 1,\n",
       "          ('daily', 'reach'): 1,\n",
       "          ('reach', ';'): 1,\n",
       "          ('and', 'many'): 3,\n",
       "          ('many', 'a'): 9,\n",
       "          ('long', 'october'): 1,\n",
       "          ('october', 'and'): 1,\n",
       "          ('and', 'november'): 1,\n",
       "          ('november', 'evening'): 1,\n",
       "          ('evening', 'must'): 1,\n",
       "          ('be', 'struggled'): 1,\n",
       "          ('struggled', 'through'): 1,\n",
       "          ('through', 'at'): 1,\n",
       "          ('at', 'hartfield'): 67,\n",
       "          ('hartfield', ','): 56,\n",
       "          (',', 'before'): 33,\n",
       "          ('before', 'christmas'): 1,\n",
       "          ('christmas', 'brought'): 1,\n",
       "          ('brought', 'the'): 5,\n",
       "          ('the', 'next'): 33,\n",
       "          ('next', 'visit'): 1,\n",
       "          ('visit', 'from'): 6,\n",
       "          ('from', 'isabella'): 1,\n",
       "          ('isabella', 'and'): 4,\n",
       "          ('her', 'husband'): 21,\n",
       "          ('husband', ','): 8,\n",
       "          ('and', 'their'): 10,\n",
       "          ('their', 'little'): 7,\n",
       "          ('little', 'children'): 2,\n",
       "          ('children', ','): 18,\n",
       "          (',', 'to'): 264,\n",
       "          ('to', 'fill'): 2,\n",
       "          ('fill', 'the'): 1,\n",
       "          ('house', ','): 26,\n",
       "          ('and', 'give'): 7,\n",
       "          ('give', 'her'): 13,\n",
       "          ('her', 'pleasant'): 2,\n",
       "          ('pleasant', 'society'): 1,\n",
       "          ('society', 'again'): 1,\n",
       "          ('again', '.'): 58,\n",
       "          ('.', 'highbury'): 2,\n",
       "          ('highbury', ','): 41,\n",
       "          ('the', 'large'): 5,\n",
       "          ('large', 'and'): 1,\n",
       "          ('and', 'populous'): 1,\n",
       "          ('populous', 'village'): 1,\n",
       "          ('village', ','): 2,\n",
       "          (',', 'almost'): 12,\n",
       "          ('almost', 'amounting'): 1,\n",
       "          ('amounting', 'to'): 1,\n",
       "          ('to', 'a'): 73,\n",
       "          ('a', 'town'): 1,\n",
       "          ('town', ','): 3,\n",
       "          ('to', 'which'): 8,\n",
       "          ('which', 'hartfield'): 1,\n",
       "          ('in', 'spite'): 24,\n",
       "          ('spite', 'of'): 24,\n",
       "          ('of', 'its'): 37,\n",
       "          ('its', 'separate'): 1,\n",
       "          ('separate', 'lawn'): 1,\n",
       "          ('lawn', ','): 2,\n",
       "          ('and', 'shrubberies'): 1,\n",
       "          ('shrubberies', ','): 1,\n",
       "          ('and', 'name'): 1,\n",
       "          ('name', ','): 11,\n",
       "          (',', 'did'): 16,\n",
       "          ('did', 'really'): 3,\n",
       "          ('really', 'belong'): 1,\n",
       "          ('belong', ','): 1,\n",
       "          (',', 'afforded'): 2,\n",
       "          ('afforded', 'her'): 3,\n",
       "          ('her', 'no'): 4,\n",
       "          ('no', 'equals'): 1,\n",
       "          ('equals', '.'): 1,\n",
       "          ('the', 'woodhouses'): 3,\n",
       "          ('woodhouses', 'were'): 1,\n",
       "          ('were', 'first'): 2,\n",
       "          ('first', 'in'): 10,\n",
       "          ('consequence', 'there'): 1,\n",
       "          ('there', '.'): 12,\n",
       "          ('.', 'all'): 7,\n",
       "          ('all', 'looked'): 1,\n",
       "          ('looked', 'up'): 8,\n",
       "          ('up', 'to'): 17,\n",
       "          ('to', 'them'): 27,\n",
       "          ('them', '.'): 59,\n",
       "          ('had', 'many'): 5,\n",
       "          ('many', 'acquaintance'): 1,\n",
       "          ('acquaintance', 'in'): 3,\n",
       "          ('the', 'place'): 23,\n",
       "          ('place', ','): 24,\n",
       "          (',', 'for'): 121,\n",
       "          ('father', 'was'): 6,\n",
       "          ('was', 'universally'): 2,\n",
       "          ('universally', 'civil'): 1,\n",
       "          ('civil', ','): 3,\n",
       "          ('not', 'one'): 12,\n",
       "          ('one', 'among'): 2,\n",
       "          ('among', 'them'): 8,\n",
       "          ('them', 'who'): 1,\n",
       "          ('who', 'could'): 15,\n",
       "          ('could', 'be'): 95,\n",
       "          ('be', 'accepted'): 1,\n",
       "          ('accepted', 'in'): 1,\n",
       "          ('in', 'lieu'): 1,\n",
       "          ('lieu', 'of'): 1,\n",
       "          ('taylor', 'for'): 1,\n",
       "          ('for', 'even'): 3,\n",
       "          ('even', 'half'): 2,\n",
       "          ('a', 'day'): 20,\n",
       "          ('a', 'melancholy'): 4,\n",
       "          ('melancholy', 'change'): 2,\n",
       "          ('change', ';'): 4,\n",
       "          ('emma', 'could'): 61,\n",
       "          ('not', 'but'): 21,\n",
       "          ('but', 'sigh'): 1,\n",
       "          ('sigh', 'over'): 1,\n",
       "          ('over', 'it'): 6,\n",
       "          ('it', ','): 178,\n",
       "          ('and', 'wish'): 3,\n",
       "          ('wish', 'for'): 9,\n",
       "          ('for', 'impossible'): 1,\n",
       "          ('impossible', 'things'): 1,\n",
       "          ('things', ','): 13,\n",
       "          (',', 'till'): 23,\n",
       "          ('till', 'her'): 3,\n",
       "          ('father', 'awoke'): 1,\n",
       "          ('awoke', ','): 1,\n",
       "          ('and', 'made'): 8,\n",
       "          ('made', 'it'): 13,\n",
       "          ('it', 'necessary'): 4,\n",
       "          ('necessary', 'to'): 13,\n",
       "          ('to', 'be'): 604,\n",
       "          ('be', 'cheerful'): 1,\n",
       "          ('cheerful', '.'): 1,\n",
       "          ('.', 'his'): 42,\n",
       "          ('his', 'spirits'): 8,\n",
       "          ('spirits', 'required'): 1,\n",
       "          ('required', 'support'): 1,\n",
       "          ('support', '.'): 1,\n",
       "          ('a', 'nervous'): 4,\n",
       "          ('nervous', 'man'): 1,\n",
       "          ('man', ','): 54,\n",
       "          (',', 'easily'): 1,\n",
       "          ('easily', 'depressed'): 1,\n",
       "          ('depressed', ';'): 1,\n",
       "          (';', 'fond'): 1,\n",
       "          ('every', 'body'): 109,\n",
       "          ('body', 'that'): 2,\n",
       "          ('that', 'he'): 181,\n",
       "          ('was', 'used'): 3,\n",
       "          ('used', 'to'): 38,\n",
       "          ('to', ','): 24,\n",
       "          ('and', 'hating'): 1,\n",
       "          ('hating', 'to'): 1,\n",
       "          ('to', 'part'): 9,\n",
       "          ('part', 'with'): 9,\n",
       "          ('with', 'them'): 33,\n",
       "          (';', 'hating'): 1,\n",
       "          ('hating', 'change'): 1,\n",
       "          ('change', 'of'): 14,\n",
       "          ('every', 'kind'): 2,\n",
       "          ('kind', '.'): 5,\n",
       "          ('.', 'matrimony'): 1,\n",
       "          ('as', 'the'): 48,\n",
       "          ('the', 'origin'): 1,\n",
       "          ('origin', 'of'): 1,\n",
       "          ('of', 'change'): 2,\n",
       "          ('change', ','): 7,\n",
       "          ('was', 'always'): 24,\n",
       "          ('always', 'disagreeable'): 1,\n",
       "          ('disagreeable', ';'): 2,\n",
       "          ('and', 'he'): 76,\n",
       "          ('was', 'by'): 9,\n",
       "          ('by', 'no'): 15,\n",
       "          ('no', 'means'): 12,\n",
       "          ('means', 'yet'): 1,\n",
       "          ('yet', 'reconciled'): 1,\n",
       "          ('reconciled', 'to'): 3,\n",
       "          ('to', 'his'): 56,\n",
       "          ('his', 'own'): 79,\n",
       "          ('own', 'daughter'): 1,\n",
       "          ('daughter', \"'s\"): 13,\n",
       "          (\"'s\", 'marrying'): 7,\n",
       "          ('marrying', ','): 5,\n",
       "          (',', 'nor'): 38,\n",
       "          ('nor', 'could'): 3,\n",
       "          ('could', 'ever'): 5,\n",
       "          ('ever', 'speak'): 1,\n",
       "          ('speak', 'of'): 22,\n",
       "          ('her', 'but'): 1,\n",
       "          ('but', 'with'): 13,\n",
       "          ('with', 'compassion'): 2,\n",
       "          ('compassion', ','): 4,\n",
       "          ('though', 'it'): 12,\n",
       "          ('it', 'had'): 49,\n",
       "          ('been', 'entirely'): 4,\n",
       "          ('entirely', 'a'): 2,\n",
       "          ('a', 'match'): 5,\n",
       "          ('match', 'of'): 1,\n",
       "          ('of', 'affection'): 4,\n",
       "          ('affection', ','): 12,\n",
       "          (',', 'when'): 99,\n",
       "          ('when', 'he'): 45,\n",
       "          ('now', 'obliged'): 1,\n",
       "          ('obliged', 'to'): 66,\n",
       "          ('with', 'miss'): 11,\n",
       "          ('taylor', 'too'): 1,\n",
       "          ('too', ';'): 5,\n",
       "          ('and', 'from'): 9,\n",
       "          ('from', 'his'): 17,\n",
       "          ('his', 'habits'): 1,\n",
       "          ('habits', 'of'): 4,\n",
       "          ('of', 'gentle'): 4,\n",
       "          ('gentle', 'selfishness'): 1,\n",
       "          ...})"
      ]
     },
     "execution_count": 81,
     "metadata": {},
     "output_type": "execute_result"
    }
   ],
   "source": [
    "e2gramfd"
   ]
  },
  {
   "cell_type": "raw",
   "metadata": {},
   "source": [
    "Question 6:Bigrams"
   ]
  },
  {
   "cell_type": "code",
   "execution_count": 85,
   "metadata": {},
   "outputs": [
    {
     "data": {
      "text/plain": [
       "FreqDist({('.', 'finis'): 1,\n",
       "          ('answered', 'in'): 1,\n",
       "          ('fully', 'answered'): 1,\n",
       "          ('the', 'ceremony'): 1,\n",
       "          ('the', 'perfect'): 1,\n",
       "          ('the', 'union'): 1,\n",
       "          ('union', '.'): 1,\n",
       "          ('were', 'fully'): 1,\n",
       "          ('who', 'witnessed'): 1,\n",
       "          ('witnessed', 'the'): 1})"
      ]
     },
     "execution_count": 85,
     "metadata": {},
     "output_type": "execute_result"
    }
   ],
   "source": [
    "last_ten=FreqDist(dict(e2gramfd.most_common()[-10:]))\n",
    "last_ten"
   ]
  },
  {
   "cell_type": "raw",
   "metadata": {},
   "source": [
    "Question 7: Bigram Top Frequency"
   ]
  },
  {
   "cell_type": "code",
   "execution_count": 86,
   "metadata": {},
   "outputs": [],
   "source": [
    "tokenizer=nltk.tokenize.WhitespaceTokenizer()\n",
    "tokes=tokenizer.tokenize(etxt)"
   ]
  },
  {
   "cell_type": "code",
   "execution_count": 87,
   "metadata": {},
   "outputs": [],
   "source": [
    "e2grams=list(nltk.bigrams(toke))\n",
    "e2gramfd=nltk.FreqDist(e2grams)"
   ]
  },
  {
   "cell_type": "code",
   "execution_count": 88,
   "metadata": {},
   "outputs": [
    {
     "data": {
      "text/plain": [
       "[((',', 'and'), 1879),\n",
       " (('Mr', '.'), 1153),\n",
       " ((\"'\", 's'), 932),\n",
       " ((';', 'and'), 866),\n",
       " (('.\"', '\"'), 757),\n",
       " (('Mrs', '.'), 699),\n",
       " (('to', 'be'), 595),\n",
       " (('.', 'I'), 570),\n",
       " ((',', 'I'), 568),\n",
       " (('of', 'the'), 556),\n",
       " (('in', 'the'), 434),\n",
       " ((';', 'but'), 427),\n",
       " (('.', 'Weston'), 426),\n",
       " (('.', '\"'), 415),\n",
       " (('.', 'She'), 413),\n",
       " ((',', '\"'), 398),\n",
       " (('I', 'am'), 395),\n",
       " (('.', 'Elton'), 381),\n",
       " ((',', 'that'), 359),\n",
       " (('had', 'been'), 308)]"
      ]
     },
     "execution_count": 88,
     "metadata": {},
     "output_type": "execute_result"
    }
   ],
   "source": [
    "e2gramfd.most_common(20)"
   ]
  },
  {
   "cell_type": "raw",
   "metadata": {},
   "source": [
    "Question 8:Bigram frequency count"
   ]
  },
  {
   "cell_type": "code",
   "execution_count": 89,
   "metadata": {},
   "outputs": [
    {
     "name": "stdout",
     "output_type": "stream",
     "text": [
      "('so', 'happy') 4\n"
     ]
    }
   ],
   "source": [
    "for i,j in e2gramfd.items():\n",
    "    if i==('so','happy'):\n",
    "        print(i,j)"
   ]
  },
  {
   "cell_type": "raw",
   "metadata": {},
   "source": [
    "Question 9: word following 'so'"
   ]
  },
  {
   "cell_type": "code",
   "execution_count": 90,
   "metadata": {},
   "outputs": [],
   "source": [
    "import re\n",
    "from collections import Counter"
   ]
  },
  {
   "cell_type": "code",
   "execution_count": 91,
   "metadata": {},
   "outputs": [
    {
     "name": "stdout",
     "output_type": "stream",
     "text": [
      "Counter({('so m',): 138, ('so v',): 78, ('so l',): 61, ('so s',): 61, ('so f',): 49, ('so w',): 43, ('so a',): 40, ('so p',): 36, ('so t',): 31, ('so e',): 31, ('so d',): 31, ('so g',): 31, ('so o',): 29, ('so c',): 29, ('so i',): 29, ('so h',): 25, ('so k',): 15, ('so n',): 15, ('so r',): 14, ('so I',): 14, ('so b',): 13, ('so u',): 7, ('so y',): 7, ('so j',): 2, ('so _',): 2, ('so q',): 2, ('so P',): 1})\n"
     ]
    }
   ],
   "source": [
    "words=re.findall(r'so+ \\w',open('austen-emma.txt').read())\n",
    "ab=Counter(zip(words))\n",
    "print(ab)"
   ]
  },
  {
   "cell_type": "raw",
   "metadata": {},
   "source": [
    "Question 10: Trigrams"
   ]
  },
  {
   "cell_type": "code",
   "execution_count": 92,
   "metadata": {},
   "outputs": [],
   "source": [
    "e3grams=list(nltk.trigrams(tokes))\n",
    "e3gramfd=nltk.FreqDist(e3grams)"
   ]
  },
  {
   "cell_type": "code",
   "execution_count": 93,
   "metadata": {},
   "outputs": [
    {
     "data": {
      "text/plain": [
       "FreqDist({('answered', 'in', 'the'): 1,\n",
       "          ('ceremony,', 'were', 'fully'): 1,\n",
       "          ('fully', 'answered', 'in'): 1,\n",
       "          ('in', 'the', 'perfect'): 1,\n",
       "          ('of', 'the', 'union.'): 1,\n",
       "          ('perfect', 'happiness', 'of'): 1,\n",
       "          ('the', 'ceremony,', 'were'): 1,\n",
       "          ('the', 'perfect', 'happiness'): 1,\n",
       "          ('the', 'union.', 'FINIS'): 1,\n",
       "          ('were', 'fully', 'answered'): 1})"
      ]
     },
     "execution_count": 93,
     "metadata": {},
     "output_type": "execute_result"
    }
   ],
   "source": [
    "last_ten=FreqDist(dict(e3gramfd.most_common()[-10:]))\n",
    "last_ten"
   ]
  },
  {
   "cell_type": "raw",
   "metadata": {},
   "source": [
    "Question 11:Trigramsn top frequency"
   ]
  },
  {
   "cell_type": "code",
   "execution_count": 94,
   "metadata": {},
   "outputs": [
    {
     "data": {
      "text/plain": [
       "[(('I', 'do', 'not'), 94),\n",
       " (('I', 'am', 'sure'), 75),\n",
       " (('would', 'have', 'been'), 55),\n",
       " (('a', 'great', 'deal'), 55),\n",
       " (('she', 'could', 'not'), 49),\n",
       " (('could', 'not', 'be'), 45),\n",
       " (('she', 'had', 'been'), 44),\n",
       " (('it', 'would', 'be'), 43),\n",
       " (('do', 'not', 'know'), 43),\n",
       " (('Mr.', 'and', 'Mrs.'), 37)]"
      ]
     },
     "execution_count": 94,
     "metadata": {},
     "output_type": "execute_result"
    }
   ],
   "source": [
    "e3gramfd.most_common(10)"
   ]
  },
  {
   "cell_type": "raw",
   "metadata": {},
   "source": [
    "Question 12: Trigram frequency count"
   ]
  },
  {
   "cell_type": "code",
   "execution_count": 95,
   "metadata": {},
   "outputs": [
    {
     "name": "stdout",
     "output_type": "stream",
     "text": [
      "[]\n"
     ]
    }
   ],
   "source": [
    "words1 = re.findall(r'so happy to \\w+', open('austen-emma.txt').read())\n",
    "print(words1)"
   ]
  },
  {
   "cell_type": "code",
   "execution_count": null,
   "metadata": {},
   "outputs": [],
   "source": []
  }
 ],
 "metadata": {
  "kernelspec": {
   "display_name": "Python 3 (ipykernel)",
   "language": "python",
   "name": "python3"
  },
  "language_info": {
   "codemirror_mode": {
    "name": "ipython",
    "version": 3
   },
   "file_extension": ".py",
   "mimetype": "text/x-python",
   "name": "python",
   "nbconvert_exporter": "python",
   "pygments_lexer": "ipython3",
   "version": "3.9.12"
  }
 },
 "nbformat": 4,
 "nbformat_minor": 2
}
